{
  "nbformat": 4,
  "nbformat_minor": 0,
  "metadata": {
    "colab": {
      "provenance": [],
      "authorship_tag": "ABX9TyOV9yyA6e91cyuAc1hBnHJY",
      "include_colab_link": true
    },
    "kernelspec": {
      "name": "python3",
      "display_name": "Python 3"
    },
    "language_info": {
      "name": "python"
    }
  },
  "cells": [
    {
      "cell_type": "markdown",
      "metadata": {
        "id": "view-in-github",
        "colab_type": "text"
      },
      "source": [
        "<a href=\"https://colab.research.google.com/github/TitusVHDZ/INTRO-GITHUB/blob/main/DataScienceEcosystem.ipynb\" target=\"_parent\"><img src=\"https://colab.research.google.com/assets/colab-badge.svg\" alt=\"Open In Colab\"/></a>"
      ]
    },
    {
      "cell_type": "markdown",
      "source": [
        "#Data Science Tools and Ecosystem"
      ],
      "metadata": {
        "id": "wqDoJ9d_NiVa"
      }
    },
    {
      "cell_type": "markdown",
      "source": [],
      "metadata": {
        "id": "e-q5SiryYz9b"
      }
    },
    {
      "cell_type": "markdown",
      "source": [
        "In this notebook, Data Science Tools and Ecosystem are summarized."
      ],
      "metadata": {
        "id": "8cON2sfDOIJf"
      }
    },
    {
      "cell_type": "markdown",
      "source": [
        "**Objectives:**\n",
        "\n",
        "- List popular languages for Data Science.\n",
        "- Introduce commonly used libraries in Data Science.\n",
        "- Demonstrate evaluation of arithmetic expressions in Python.\n",
        "- Perform basic calculations to convert units (e.g., minutes to hours).\n",
        "- Showcase usage of Jupyter Notebook for interactive coding and documentation."
      ],
      "metadata": {
        "id": "CD3L-JQWY2Lf"
      }
    },
    {
      "cell_type": "markdown",
      "source": [
        "Some of the popular languages that Data Scientists use are:\n",
        "\n",
        "1. **Python**\n",
        "\n",
        "2. **R**\n",
        "\n",
        "3. **SQL**\n",
        "\n",
        "4. **Julia**\n",
        "\n"
      ],
      "metadata": {
        "id": "WhyaYdb_QZ4w"
      }
    },
    {
      "cell_type": "markdown",
      "source": [
        "Some of the commonly used libraries used by Data Scientists include:\n",
        "\n",
        "1. **NumPy**: Fundamental package for numerical computing in Python.\n",
        "\n",
        "2. **Pandas**: Library for data manipulation and analysis in Python..\n",
        "\n",
        "3. **Matplotlib**: Comprehensive library for creating static, animated, and interactive visualizations in Python.\n",
        "\n",
        "4. **Scikit-learn**: Simple and efficie\n",
        "\n",
        "5. **TensorFlow (or PyTorch)**: Deep learning frameworks that facilitate building and training neural networks."
      ],
      "metadata": {
        "id": "XwdyidvjRUie"
      }
    },
    {
      "cell_type": "code",
      "source": [],
      "metadata": {
        "id": "mJBBoZCqUA4R"
      },
      "execution_count": null,
      "outputs": []
    },
    {
      "cell_type": "markdown",
      "source": [
        "| Data Science Tools   |\n",
        "|----------------------|\n",
        "| Jupyter Notebook     |\n",
        "| RStudio              |\n",
        "| Spyder               |"
      ],
      "metadata": {
        "id": "qKT4RIIkRwrG"
      }
    },
    {
      "cell_type": "markdown",
      "source": [
        "### Below are a few examples of evaluating arithmetic expressions in Python.\n",
        "\n"
      ],
      "metadata": {
        "id": "aDspcWdKTbr-"
      }
    },
    {
      "cell_type": "code",
      "source": [
        "# This is a simple arithmetic expression to multiply then add integers.\n",
        "result = (3 * 4) + 5\n",
        "result"
      ],
      "metadata": {
        "colab": {
          "base_uri": "https://localhost:8080/"
        },
        "id": "tYqsQ4_dT2Gt",
        "outputId": "0b61dd89-a041-49c4-85a8-85b3a9a5c4ca"
      },
      "execution_count": 5,
      "outputs": [
        {
          "output_type": "execute_result",
          "data": {
            "text/plain": [
              "17"
            ]
          },
          "metadata": {},
          "execution_count": 5
        }
      ]
    },
    {
      "cell_type": "code",
      "source": [
        "# This will convert 200 minutes to hours by dividing by 60.\n",
        "minutes = 200\n",
        "hours = minutes / 60\n",
        "hours"
      ],
      "metadata": {
        "colab": {
          "base_uri": "https://localhost:8080/"
        },
        "id": "oAfUTbUtYKP2",
        "outputId": "c9892ea3-5293-48e3-9e21-122ba926a493"
      },
      "execution_count": 6,
      "outputs": [
        {
          "output_type": "execute_result",
          "data": {
            "text/plain": [
              "3.3333333333333335"
            ]
          },
          "metadata": {},
          "execution_count": 6
        }
      ]
    },
    {
      "cell_type": "code",
      "source": [],
      "metadata": {
        "id": "eHWqFzm1ZTS1"
      },
      "execution_count": null,
      "outputs": []
    },
    {
      "cell_type": "markdown",
      "source": [
        "## Author\n",
        "\n",
        "Victor Diaz"
      ],
      "metadata": {
        "id": "m7FY8by_ZQZ7"
      }
    }
  ]
}